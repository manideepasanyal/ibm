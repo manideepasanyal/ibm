{
 "cells": [
  {
   "cell_type": "markdown",
   "id": "851234b3",
   "metadata": {},
   "source": [
    "# My Jupyter Notebook on IBM Watson Studio"
   ]
  },
  {
   "cell_type": "markdown",
   "id": "5c42fdc4",
   "metadata": {},
   "source": [
    "**Manideepa Sanyal**\n",
    "<br>\n",
    "Data Scientist"
   ]
  },
  {
   "cell_type": "markdown",
   "id": "285b6c6e",
   "metadata": {},
   "source": [
    "*I am interested in data science because I want to create models for different organizations so as to predict future events.I studied statistics in college and since then I like storytelling with data.*"
   ]
  },
  {
   "cell_type": "markdown",
   "id": "1fe6f085",
   "metadata": {},
   "source": [
    "### The following code will display the prime numbers in the range 1-10"
   ]
  },
  {
   "cell_type": "code",
   "execution_count": 13,
   "id": "f41de911",
   "metadata": {},
   "outputs": [
    {
     "name": "stdout",
     "output_type": "stream",
     "text": [
      "2\n",
      "3\n",
      "5\n",
      "7\n"
     ]
    }
   ],
   "source": [
    "for i in range (2,10):\n",
    "    flag=1\n",
    "    for j in range (2,i):\n",
    "        if i%j==0:\n",
    "            flag=0\n",
    "    if(flag==1):\n",
    "        print(i)          "
   ]
  },
  {
   "cell_type": "markdown",
   "id": "859d3e08",
   "metadata": {},
   "source": [
    "* This \n",
    "* is\n",
    "* a \n",
    "* bulleted list\n",
    "***\n",
    "1. This\n",
    "1. Is \n",
    "1. A\n",
    "1. Numbered list"
   ]
  },
  {
   "cell_type": "code",
   "execution_count": null,
   "id": "38dbce77",
   "metadata": {},
   "outputs": [],
   "source": []
  }
 ],
 "metadata": {
  "kernelspec": {
   "display_name": "Python 3 (ipykernel)",
   "language": "python",
   "name": "python3"
  },
  "language_info": {
   "codemirror_mode": {
    "name": "ipython",
    "version": 3
   },
   "file_extension": ".py",
   "mimetype": "text/x-python",
   "name": "python",
   "nbconvert_exporter": "python",
   "pygments_lexer": "ipython3",
   "version": "3.9.12"
  }
 },
 "nbformat": 4,
 "nbformat_minor": 5
}
